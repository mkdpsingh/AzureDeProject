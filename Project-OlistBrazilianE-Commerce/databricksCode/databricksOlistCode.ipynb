{
 "cells": [
  {
   "cell_type": "code",
   "execution_count": 0,
   "metadata": {
    "application/vnd.databricks.v1+cell": {
     "cellMetadata": {
      "byteLimit": 2048000,
      "rowLimit": 10000
     },
     "inputWidgets": {},
     "nuid": "310b734a-befa-436c-9ea3-c723d2ecf737",
     "showTitle": false,
     "tableResultSettingsMap": {},
     "title": ""
    }
   },
   "outputs": [
    {
     "output_type": "stream",
     "name": "stdout",
     "output_type": "stream",
     "text": [
      "Executed at: 2025-05-22 18:17:07.845467\n"
     ]
    }
   ],
   "source": [
    "import threading\n",
    "from datetime import datetime, timedelta\n",
    "\n",
    "def run_spark():\n",
    "    spark\n",
    "    ist_time = datetime.utcnow() + timedelta(hours=5, minutes=30)\n",
    "    print(f\"Executed at: {ist_time}\")\n",
    "    threading.Timer(1140, run_spark).start()\n",
    "\n",
    "run_spark()"
   ]
  },
  {
   "cell_type": "code",
   "execution_count": 0,
   "metadata": {
    "application/vnd.databricks.v1+cell": {
     "cellMetadata": {
      "byteLimit": 2048000,
      "rowLimit": 10000
     },
     "inputWidgets": {},
     "nuid": "cd8a9162-32ab-4f36-b508-0b3f7c8c2f58",
     "showTitle": false,
     "tableResultSettingsMap": {},
     "title": ""
    }
   },
   "outputs": [],
   "source": [
    "storage_account = \"mksoliststorageaccount\"\n",
    "application_id = \"5e4dc1f8-f429-4eb6-8888-4f4abd15d59f\"\n",
    "directory_id = \"15e203e9-bdac-4076-bc61-29fb7005e633\"\n",
    "service_credential = \"<olistAppRegistration-Secretsandcertificates-value>\"\n",
    "\n",
    "spark.conf.set(f\"fs.azure.account.auth.type.{storage_account}.dfs.core.windows.net\", \"OAuth\")\n",
    "spark.conf.set(f\"fs.azure.account.oauth.provider.type.{storage_account}.dfs.core.windows.net\", \n",
    "               \"org.apache.hadoop.fs.azurebfs.oauth2.ClientCredsTokenProvider\")\n",
    "spark.conf.set(f\"fs.azure.account.oauth2.client.id.{storage_account}.dfs.core.windows.net\", application_id)\n",
    "spark.conf.set(f\"fs.azure.account.oauth2.client.secret.{storage_account}.dfs.core.windows.net\", service_credential)\n",
    "spark.conf.set(f\"fs.azure.account.oauth2.client.endpoint.{storage_account}.dfs.core.windows.net\", \n",
    "               f\"https://login.microsoftonline.com/{directory_id}/oauth2/token\")"
   ]
  },
  {
   "cell_type": "code",
   "execution_count": 0,
   "metadata": {
    "application/vnd.databricks.v1+cell": {
     "cellMetadata": {
      "byteLimit": 2048000,
      "rowLimit": 10000
     },
     "inputWidgets": {},
     "nuid": "550769d0-a46f-45fb-ae65-96e886529930",
     "showTitle": false,
     "tableResultSettingsMap": {},
     "title": ""
    }
   },
   "outputs": [],
   "source": [
    "df = spark.read.format(\"csv\").option(\"header\", \"true\").load(f\"abfss://olistdata@mksoliststorageaccount.dfs.core.windows.net/bronze/olist_customers_dataset.csv\")\n",
    "# display(df)"
   ]
  },
  {
   "cell_type": "code",
   "execution_count": 0,
   "metadata": {
    "application/vnd.databricks.v1+cell": {
     "cellMetadata": {
      "byteLimit": 2048000,
      "rowLimit": 10000
     },
     "inputWidgets": {},
     "nuid": "a0ccf49d-8504-4eb2-af03-c2134fae83b4",
     "showTitle": false,
     "tableResultSettingsMap": {},
     "title": ""
    }
   },
   "outputs": [],
   "source": [
    "base_path = \"abfss://olistdata@mksoliststorageaccount.dfs.core.windows.net/bronze/\"\n",
    "orders_path = base_path + \"olist_orders_dataset.csv\"\n",
    "payments_path = base_path + \"olist_order_payments_dataset.csv\"\n",
    "reviews_path = base_path + \"olist_order_reviews_dataset.csv\"\n",
    "items_path = base_path + \"olist_order_items_dataset.csv\"\n",
    "customers_path = base_path + \"olist_customers_dataset.csv\"\n",
    "sellers_path = base_path + \"olist_sellers_dataset.csv\"\n",
    "geolocation_path = base_path + \"olist_geolocation_dataset.csv\"\n",
    "products_path = base_path + \"olist_products_dataset.csv\"\n",
    "\n",
    "orders_df = spark.read.format(\"csv\").option(\"header\", \"true\").load(orders_path)\n",
    "payments_df = spark.read.format(\"csv\").option(\"header\", \"true\").load(payments_path)\n",
    "reviews_df = spark.read.format(\"csv\").option(\"header\", \"true\").load(reviews_path)\n",
    "items_df = spark.read.format(\"csv\").option(\"header\", \"true\").load(items_path)\n",
    "customers_df = spark.read.format(\"csv\").option(\"header\", \"true\").load(customers_path)\n",
    "sellers_df = spark.read.format(\"csv\").option(\"header\", \"true\").load(sellers_path)\n",
    "geolocation_df = spark.read.format(\"csv\").option(\"header\", \"true\").load(geolocation_path)\n",
    "products_df = spark.read.format(\"csv\").option(\"header\", \"true\").load(products_path)\n"
   ]
  },
  {
   "cell_type": "markdown",
   "metadata": {
    "application/vnd.databricks.v1+cell": {
     "cellMetadata": {},
     "inputWidgets": {},
     "nuid": "0a693b27-6c50-4587-820f-02055aa9742d",
     "showTitle": false,
     "tableResultSettingsMap": {},
     "title": ""
    }
   },
   "source": [
    "## Reading Data From Mongo DB"
   ]
  },
  {
   "cell_type": "code",
   "execution_count": 0,
   "metadata": {
    "application/vnd.databricks.v1+cell": {
     "cellMetadata": {
      "byteLimit": 2048000,
      "rowLimit": 10000
     },
     "inputWidgets": {},
     "nuid": "73fc4d70-98b3-4121-8e55-a8a8f836c641",
     "showTitle": false,
     "tableResultSettingsMap": {},
     "title": ""
    }
   },
   "outputs": [],
   "source": [
    "import pymongo\n",
    "from pymongo import MongoClient"
   ]
  },
  {
   "cell_type": "code",
   "execution_count": 0,
   "metadata": {
    "application/vnd.databricks.v1+cell": {
     "cellMetadata": {
      "byteLimit": 2048000,
      "rowLimit": 10000
     },
     "inputWidgets": {},
     "nuid": "fc187c6c-6e19-420c-ba65-339ed88b8058",
     "showTitle": false,
     "tableResultSettingsMap": {},
     "title": ""
    }
   },
   "outputs": [
    {
     "output_type": "execute_result",
     "data": {
      "text/plain": [
       "Database(MongoClient(host=['pjdir.h.filess.io:27018'], document_class=dict, tz_aware=False, connect=True), 'olistProjectNoSQL_sailpainus')"
      ]
     },
     "execution_count": 7,
     "metadata": {},
     "output_type": "execute_result"
    }
   ],
   "source": [
    "# importing module\n",
    "from pymongo import MongoClient\n",
    "\n",
    "hostname = \"pjdir.h.filess.io\"\n",
    "database = \"olistProjectNoSQL_sailpainus\"\n",
    "port = \"27018\"\n",
    "username = \"olistProjectNoSQL_sailpainus\"\n",
    "password = \"9a884b18a31f961088eedffdc4063ba8370c160f\"\n",
    "\n",
    "uri = \"mongodb://\" + username + \":\" + password + \"@\" + hostname + \":\" + port + \"/\" + database\n",
    "\n",
    "# Connect with the portnumber and host\n",
    "client = MongoClient(uri)\n",
    "\n",
    "# Access database\n",
    "mydatabase = client[database]\n",
    "mydatabase"
   ]
  },
  {
   "cell_type": "code",
   "execution_count": 0,
   "metadata": {
    "application/vnd.databricks.v1+cell": {
     "cellMetadata": {
      "byteLimit": 2048000,
      "rowLimit": 10000
     },
     "inputWidgets": {},
     "nuid": "695687f8-52da-4ed0-aecf-bf00b636a775",
     "showTitle": false,
     "tableResultSettingsMap": {},
     "title": ""
    }
   },
   "outputs": [
    {
     "output_type": "display_data",
     "data": {
      "text/plain": [
       "Collection(Database(MongoClient(host=['pjdir.h.filess.io:27018'], document_class=dict, tz_aware=False, connect=True), 'olistProjectNoSQL_sailpainus'), 'product_categories')"
      ]
     },
     "metadata": {},
     "output_type": "display_data"
    }
   ],
   "source": [
    "import pandas as pd\n",
    "collection = mydatabase['product_categories']\n",
    "display(collection)\n",
    "mongo_data = pd.DataFrame(collection.find())\n",
    "# mongo_data"
   ]
  },
  {
   "cell_type": "markdown",
   "metadata": {
    "application/vnd.databricks.v1+cell": {
     "cellMetadata": {},
     "inputWidgets": {},
     "nuid": "7bf9f78c-1cc2-4578-a7c0-5f56f7516ef4",
     "showTitle": false,
     "tableResultSettingsMap": {},
     "title": ""
    }
   },
   "source": [
    "### Cleaning the Data"
   ]
  },
  {
   "cell_type": "code",
   "execution_count": 0,
   "metadata": {
    "application/vnd.databricks.v1+cell": {
     "cellMetadata": {
      "byteLimit": 2048000,
      "rowLimit": 10000
     },
     "inputWidgets": {},
     "nuid": "61cbcc2f-78c3-446d-a112-edb37e47f432",
     "showTitle": false,
     "tableResultSettingsMap": {},
     "title": ""
    }
   },
   "outputs": [],
   "source": [
    "from pyspark.sql.functions import col,datediff,to_date,current_date,when\n"
   ]
  },
  {
   "cell_type": "code",
   "execution_count": 0,
   "metadata": {
    "application/vnd.databricks.v1+cell": {
     "cellMetadata": {
      "byteLimit": 2048000,
      "rowLimit": 10000
     },
     "inputWidgets": {},
     "nuid": "d031fc58-5297-46ff-bab3-19ca1fca4c71",
     "showTitle": false,
     "tableResultSettingsMap": {},
     "title": ""
    }
   },
   "outputs": [
    {
     "output_type": "stream",
     "name": "stdout",
     "output_type": "stream",
     "text": [
      "Initial count: 99441, Final count: 99441\n"
     ]
    }
   ],
   "source": [
    "def clean_df(df):\n",
    "    return df.dropDuplicates().na.drop(\"all\")\n",
    "\n",
    "initial_count = orders_df.count()\n",
    "orders_df = clean_df(orders_df)\n",
    "final_count = orders_df.count()\n",
    "\n",
    "print(f\"Initial count: {initial_count}, Final count: {final_count}\")\n",
    "# display(orders_df)"
   ]
  },
  {
   "cell_type": "code",
   "execution_count": 0,
   "metadata": {
    "application/vnd.databricks.v1+cell": {
     "cellMetadata": {
      "byteLimit": 2048000,
      "rowLimit": 10000
     },
     "inputWidgets": {},
     "nuid": "20a0d0ce-be16-453a-b5ac-b47946bd534e",
     "showTitle": false,
     "tableResultSettingsMap": {},
     "title": ""
    }
   },
   "outputs": [],
   "source": [
    "# convert Date Colums\n",
    "\n",
    "orders_df = orders_df.withColumn(\"order_purchase_timestamp\", to_date(col(\"order_purchase_timestamp\")))\\\n",
    "    .withColumn(\"order_delivered_customer_date\", to_date(col(\"order_delivered_customer_date\")))\\\n",
    "        .withColumn(\"order_estimated_delivery_date\", to_date(col(\"order_estimated_delivery_date\")))"
   ]
  },
  {
   "cell_type": "code",
   "execution_count": 0,
   "metadata": {
    "application/vnd.databricks.v1+cell": {
     "cellMetadata": {
      "byteLimit": 2048000,
      "rowLimit": 10000
     },
     "inputWidgets": {},
     "nuid": "e1a7183a-8e75-42ec-9f5a-b18e9f48d392",
     "showTitle": false,
     "tableResultSettingsMap": {},
     "title": ""
    }
   },
   "outputs": [],
   "source": [
    "# Calculate Delivery and Time Delays\n",
    "\n",
    "orders_df = orders_df.withColumn(\"actual_delivery_time\", datediff(\"order_delivered_customer_date\", \"order_purchase_timestamp\"))\n",
    "orders_df = orders_df.withColumn(\"estimated_delivery_time\", datediff(\"order_estimated_delivery_date\", \"order_purchase_timestamp\"))\n",
    "orders_df =orders_df.withColumn(\"Delay Time\", col(\"actual_delivery_time\") - col(\"estimated_delivery_time\"))\n",
    "\n",
    "# display(orders_df)"
   ]
  },
  {
   "cell_type": "code",
   "execution_count": 0,
   "metadata": {
    "application/vnd.databricks.v1+cell": {
     "cellMetadata": {
      "byteLimit": 2048000,
      "rowLimit": 10000
     },
     "inputWidgets": {},
     "nuid": "5254b2a7-857b-4a85-896e-6b7a0f59ae9b",
     "showTitle": false,
     "tableResultSettingsMap": {},
     "title": ""
    }
   },
   "outputs": [],
   "source": [
    "# display(orders_df.tail(5))"
   ]
  },
  {
   "cell_type": "markdown",
   "metadata": {
    "application/vnd.databricks.v1+cell": {
     "cellMetadata": {},
     "inputWidgets": {},
     "nuid": "ddb70a42-bd3e-4f9d-9c31-92bd1a9b3156",
     "showTitle": false,
     "tableResultSettingsMap": {},
     "title": ""
    }
   },
   "source": [
    "## Joining"
   ]
  },
  {
   "cell_type": "code",
   "execution_count": 0,
   "metadata": {
    "application/vnd.databricks.v1+cell": {
     "cellMetadata": {
      "byteLimit": 2048000,
      "rowLimit": 10000
     },
     "inputWidgets": {},
     "nuid": "212cf7aa-e665-4d0f-b82f-c440786c8d77",
     "showTitle": false,
     "tableResultSettingsMap": {},
     "title": ""
    }
   },
   "outputs": [
    {
     "output_type": "execute_result",
     "data": {
      "text/plain": [
       "(['order_id',\n",
       "  'payment_sequential',\n",
       "  'payment_type',\n",
       "  'payment_installments',\n",
       "  'payment_value'],\n",
       " ['order_id',\n",
       "  'order_item_id',\n",
       "  'product_id',\n",
       "  'seller_id',\n",
       "  'shipping_limit_date',\n",
       "  'price',\n",
       "  'freight_value'])"
      ]
     },
     "execution_count": 28,
     "metadata": {},
     "output_type": "execute_result"
    }
   ],
   "source": [
    "payments_df.columns,items_df.columns"
   ]
  },
  {
   "cell_type": "code",
   "execution_count": 0,
   "metadata": {
    "application/vnd.databricks.v1+cell": {
     "cellMetadata": {
      "byteLimit": 2048000,
      "rowLimit": 10000
     },
     "inputWidgets": {},
     "nuid": "66359f8d-4ed3-432e-8c2a-46cc55dfc8ea",
     "showTitle": false,
     "tableResultSettingsMap": {},
     "title": ""
    }
   },
   "outputs": [],
   "source": [
    "orders_cutomers_df = orders_df.join(customers_df, orders_df.customer_id == customers_df.customer_id,\"left\")\n",
    "\n",
    "orders_payments_df = orders_cutomers_df.join(payments_df, orders_cutomers_df.order_id == payments_df.order_id,\"left\")\n",
    "\n",
    "orders_items_df = orders_payments_df.join(items_df,\"order_id\",\"left\")\n",
    "\n",
    "orders_items_products_df = orders_items_df.join(products_df, orders_items_df.product_id == products_df.product_id,\"left\")\n",
    "\n",
    "final_df = orders_items_products_df.join(sellers_df, orders_items_products_df.seller_id == sellers_df.seller_id,\"left\")"
   ]
  },
  {
   "cell_type": "code",
   "execution_count": 0,
   "metadata": {
    "application/vnd.databricks.v1+cell": {
     "cellMetadata": {
      "byteLimit": 2048000,
      "rowLimit": 10000
     },
     "inputWidgets": {},
     "nuid": "13189c01-65cd-4888-a3db-964861785622",
     "showTitle": false,
     "tableResultSettingsMap": {},
     "title": ""
    }
   },
   "outputs": [],
   "source": [
    "# display(final_df)"
   ]
  },
  {
   "cell_type": "code",
   "execution_count": 0,
   "metadata": {
    "application/vnd.databricks.v1+cell": {
     "cellMetadata": {
      "byteLimit": 2048000,
      "rowLimit": 10000
     },
     "inputWidgets": {},
     "nuid": "ca20f619-576e-4ef9-aa2f-f559fb766cde",
     "showTitle": false,
     "tableResultSettingsMap": {},
     "title": ""
    }
   },
   "outputs": [],
   "source": [
    "mongo_data.drop('_id',axis=1,inplace=True)\n",
    "\n",
    "mongo_sparf_df = spark.createDataFrame(mongo_data)\n",
    "# display(mongo_sparf_df)"
   ]
  },
  {
   "cell_type": "code",
   "execution_count": 0,
   "metadata": {
    "application/vnd.databricks.v1+cell": {
     "cellMetadata": {
      "byteLimit": 2048000,
      "rowLimit": 10000
     },
     "inputWidgets": {},
     "nuid": "57077552-ca02-41fb-9c8b-d5b1fd486e5e",
     "showTitle": false,
     "tableResultSettingsMap": {},
     "title": ""
    }
   },
   "outputs": [],
   "source": [
    "final_df = final_df.join(mongo_sparf_df,\"product_category_name\",\"left\")"
   ]
  },
  {
   "cell_type": "code",
   "execution_count": 0,
   "metadata": {
    "application/vnd.databricks.v1+cell": {
     "cellMetadata": {
      "byteLimit": 2048000,
      "rowLimit": 10000
     },
     "inputWidgets": {},
     "nuid": "5d0b1537-23b7-4f35-8787-209d5d13d3ab",
     "showTitle": false,
     "tableResultSettingsMap": {},
     "title": ""
    }
   },
   "outputs": [],
   "source": [
    "# display(final_df)"
   ]
  },
  {
   "cell_type": "code",
   "execution_count": 0,
   "metadata": {
    "application/vnd.databricks.v1+cell": {
     "cellMetadata": {
      "byteLimit": 2048000,
      "rowLimit": 10000
     },
     "inputWidgets": {},
     "nuid": "d08901c9-513f-496a-9c58-79ec242ed13f",
     "showTitle": false,
     "tableResultSettingsMap": {},
     "title": ""
    }
   },
   "outputs": [],
   "source": [
    "def remove_duplicate_columns(df):\n",
    "    columns = df.columns\n",
    "\n",
    "    seen_columns = set()\n",
    "    columns_to_drop = []\n",
    "\n",
    "    for column in columns:\n",
    "        if column in seen_columns:\n",
    "            columns_to_drop.append(column)\n",
    "        else:\n",
    "            seen_columns.add(column)\n",
    "    \n",
    "    df_cleaned = df.drop(*columns_to_drop)\n",
    "    return df_cleaned\n",
    "\n",
    "final_df = remove_duplicate_columns(final_df)"
   ]
  },
  {
   "cell_type": "code",
   "execution_count": 0,
   "metadata": {
    "application/vnd.databricks.v1+cell": {
     "cellMetadata": {
      "byteLimit": 2048000,
      "rowLimit": 10000
     },
     "inputWidgets": {},
     "nuid": "19002aa4-3e4c-42d8-8f06-2394a4ea1eb9",
     "showTitle": false,
     "tableResultSettingsMap": {},
     "title": ""
    }
   },
   "outputs": [],
   "source": [
    "final_df.write.mode(\"overwrite\").parquet(\"abfss://olistdata@mksoliststorageaccount.dfs.core.windows.net/silver\")"
   ]
  },
  {
   "cell_type": "code",
   "execution_count": 0,
   "metadata": {
    "application/vnd.databricks.v1+cell": {
     "cellMetadata": {
      "byteLimit": 2048000,
      "rowLimit": 10000
     },
     "inputWidgets": {},
     "nuid": "75255ce7-c087-4841-8fc5-f128624b0145",
     "showTitle": false,
     "tableResultSettingsMap": {},
     "title": ""
    }
   },
   "outputs": [],
   "source": [
    "# display(final_df)"
   ]
  },
  {
   "cell_type": "code",
   "execution_count": 0,
   "metadata": {
    "application/vnd.databricks.v1+cell": {
     "cellMetadata": {},
     "inputWidgets": {},
     "nuid": "2f28233b-ac36-4ca8-81de-502f15e8b237",
     "showTitle": false,
     "tableResultSettingsMap": {},
     "title": ""
    }
   },
   "outputs": [],
   "source": []
  }
 ],
 "metadata": {
  "application/vnd.databricks.v1+notebook": {
   "computePreferences": null,
   "dashboards": [],
   "environmentMetadata": {
    "base_environment": "",
    "environment_version": "2"
   },
   "inputWidgetPreferences": null,
   "language": "python",
   "notebookMetadata": {
    "pythonIndentUnit": 4
   },
   "notebookName": "databricksOlistCode",
   "widgets": {}
  },
  "language_info": {
   "name": "python"
  }
 },
 "nbformat": 4,
 "nbformat_minor": 0
}
